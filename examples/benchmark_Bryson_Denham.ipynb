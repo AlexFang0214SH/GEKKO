{
 "cells": [
  {
   "cell_type": "markdown",
   "metadata": {},
   "source": [
    "### Bryson Denham Benchmark\n",
    "\n",
    "$\\min J = \\frac{1}{2} \\; \\int_0^1 u^2(t) dt$\n",
    "\n",
    "$\\mathrm{subject\\;to}$\n",
    "\n",
    "$\\frac{dx(t)}{dt} = v(t) $\n",
    "\n",
    "$\\frac{dv(t)}{dt} = u(t) $\n",
    "\n",
    "$x(0) \\; = \\; x(1) \\; = \\; 0$\n",
    "\n",
    "$v(0) \\; = \\; -v(1) \\; = \\; 1$\n",
    "\n",
    "$x(t) \\le \\ell, \\; \\ell=\\frac{1}{9}$\n",
    "\n",
    "### Import Packages"
   ]
  },
  {
   "cell_type": "code",
   "execution_count": 1,
   "metadata": {},
   "outputs": [],
   "source": [
    "import numpy as np\n",
    "import matplotlib.pyplot as plt\n",
    "from gekko import GEKKO"
   ]
  },
  {
   "cell_type": "markdown",
   "metadata": {},
   "source": [
    "### Time"
   ]
  },
  {
   "cell_type": "code",
   "execution_count": 2,
   "metadata": {},
   "outputs": [],
   "source": [
    "m = GEKKO(remote=False)\n",
    "nt = 101; m.time = np.linspace(0,1,nt)"
   ]
  },
  {
   "cell_type": "markdown",
   "metadata": {},
   "source": [
    "### Variables\n",
    "\n",
    "$x(0) \\; = \\; 0$\n",
    "\n",
    "$v(0) \\;= \\; 1$\n",
    "\n",
    "$x(t) \\le \\ell, \\; \\ell=\\frac{1}{9}$"
   ]
  },
  {
   "cell_type": "code",
   "execution_count": 3,
   "metadata": {},
   "outputs": [],
   "source": [
    "x = m.Var(value=0,ub=1/9)\n",
    "v = m.Var(value=1)\n",
    "u = m.Var(value=-6)"
   ]
  },
  {
   "cell_type": "markdown",
   "metadata": {},
   "source": [
    "### Equations\n",
    "\n",
    "$\\frac{dx(t)}{dt} = v(t) $\n",
    "\n",
    "$\\frac{dv(t)}{dt} = u(t) $"
   ]
  },
  {
   "cell_type": "code",
   "execution_count": 4,
   "metadata": {},
   "outputs": [
    {
     "data": {
      "text/plain": [
       "<gekko.gekko.EquationObj at 0x215bb700f48>"
      ]
     },
     "execution_count": 4,
     "metadata": {},
     "output_type": "execute_result"
    }
   ],
   "source": [
    "m.Equation(x.dt()==v)\n",
    "m.Equation(v.dt()==u)"
   ]
  },
  {
   "cell_type": "markdown",
   "metadata": {},
   "source": [
    "### Final Conditions\n",
    "\n",
    "$x(1) \\; = \\; 0$\n",
    "\n",
    "$v(1) \\; = \\; -1$"
   ]
  },
  {
   "cell_type": "code",
   "execution_count": 7,
   "metadata": {},
   "outputs": [],
   "source": [
    "# Final conditions\n",
    "p = np.zeros(nt); p[-1] = 1.0\n",
    "final = m.Param(value=p)\n",
    "\n",
    "soft = True\n",
    "if soft:\n",
    "    # soft terminal constraint\n",
    "    m.Minimize(final*1e5*x**2)\n",
    "    m.Minimize(final*1e5*(v+1)**2)\n",
    "else:\n",
    "    # hard terminal constraint\n",
    "    xf = m.Param();    vf = m.Param()\n",
    "    m.free(xf);        m.free(vf)\n",
    "    m.fix_final(xf,0); m.fix_final(vf,-1)\n",
    "    # connect endpoint parameters to x and v\n",
    "    m.Equations([xf==x,vf==v])"
   ]
  },
  {
   "cell_type": "markdown",
   "metadata": {},
   "source": [
    "### Objective Function\n",
    "\n",
    "$\\min J = \\frac{1}{2} \\; \\int_0^1 u^2(t) dt$"
   ]
  },
  {
   "cell_type": "code",
   "execution_count": 8,
   "metadata": {},
   "outputs": [],
   "source": [
    "obj = m.Intermediate(0.5*m.integral(u**2))\n",
    "m.Minimize(final*obj)"
   ]
  },
  {
   "cell_type": "markdown",
   "metadata": {},
   "source": [
    "### Solve"
   ]
  },
  {
   "cell_type": "code",
   "execution_count": 9,
   "metadata": {},
   "outputs": [
    {
     "name": "stdout",
     "output_type": "stream",
     "text": [
      " ----------------------------------------------------------------\n",
      " APMonitor, Version 0.9.2\n",
      " APMonitor Optimization Suite\n",
      " ----------------------------------------------------------------\n",
      " \n",
      " \n",
      " --------- APM Model Size ------------\n",
      " Each time step contains\n",
      "   Objects      :  0\n",
      "   Constants    :  0\n",
      "   Variables    :  6\n",
      "   Intermediates:  2\n",
      "   Connections  :  0\n",
      "   Equations    :  9\n",
      "   Residuals    :  7\n",
      " \n",
      " Number of state variables:    900\n",
      " Number of total equations: -  800\n",
      " Number of slack variables: -  0\n",
      " ---------------------------------------\n",
      " Degrees of freedom       :    100\n",
      " \n",
      " **********************************************\n",
      " Dynamic Control with Interior Point Solver\n",
      " **********************************************\n",
      "  \n",
      "  \n",
      " Info: Exact Hessian\n",
      "\n",
      "******************************************************************************\n",
      "This program contains Ipopt, a library for large-scale nonlinear optimization.\n",
      " Ipopt is released as open source code under the Eclipse Public License (EPL).\n",
      "         For more information visit http://projects.coin-or.org/Ipopt\n",
      "******************************************************************************\n",
      "\n",
      "This is Ipopt version 3.10.2, running with linear solver mumps.\n",
      "\n",
      "Number of nonzeros in equality constraint Jacobian...:     1996\n",
      "Number of nonzeros in inequality constraint Jacobian.:        0\n",
      "Number of nonzeros in Lagrangian Hessian.............:      300\n",
      "\n",
      "Total number of variables............................:      900\n",
      "                     variables with only lower bounds:        0\n",
      "                variables with lower and upper bounds:        0\n",
      "                     variables with only upper bounds:      100\n",
      "Total number of equality constraints.................:      800\n",
      "Total number of inequality constraints...............:        0\n",
      "        inequality constraints with only lower bounds:        0\n",
      "   inequality constraints with lower and upper bounds:        0\n",
      "        inequality constraints with only upper bounds:        0\n",
      "\n",
      "iter    objective    inf_pr   inf_du lg(mu)  ||d||  lg(rg) alpha_du alpha_pr  ls\n",
      "   0 4.0000000e+005 3.60e+001 4.38e-002   0.0 0.00e+000    -  0.00e+000 0.00e+000   0\n",
      "   1 1.3596797e+005 1.43e+001 4.16e+000  -0.5 2.47e+001    -  2.63e-001 1.00e+000f  1\n",
      "   2 7.0126898e+001 3.83e+004 7.58e-002  -6.8 1.21e+003    -  9.58e-001 1.00e+000f  1\n",
      "   3 3.3140315e+001 8.75e+003 7.07e-003  -8.0 2.26e+003    -  9.32e-001 1.00e+000h  1\n",
      "   4 7.5764339e+000 2.62e+003 4.43e-003  -8.8 2.57e+003    -  8.99e-001 1.00e+000h  1\n",
      "   5 3.9591076e+000 6.96e+002 4.31e-003  -9.4 4.71e+002    -  7.80e-001 1.00e+000h  1\n",
      "   6 4.8933712e+000 1.42e+002 4.29e-011  -5.4 6.11e+001    -  1.00e+000 1.00e+000h  1\n",
      "   7 3.3948518e+000 4.75e+001 2.35e-012  -6.6 7.49e+001    -  1.00e+000 1.00e+000h  1\n",
      "   8 3.9407982e+000 4.71e+000 3.68e-012  -6.4 9.05e+000    -  1.00e+000 1.00e+000h  1\n",
      "   9 4.0167468e+000 1.82e-001 1.34e-012  -6.9 2.66e+000    -  1.00e+000 1.00e+000h  1\n",
      "iter    objective    inf_pr   inf_du lg(mu)  ||d||  lg(rg) alpha_du alpha_pr  ls\n",
      "  10 4.0150692e+000 2.16e-002 6.10e-013  -7.2 6.94e-001    -  1.00e+000 1.00e+000h  1\n",
      "  11 4.0103495e+000 8.01e-003 2.50e-013  -7.6 1.38e-001    -  1.00e+000 1.00e+000h  1\n",
      "  12 4.0089511e+000 4.35e-003 1.11e-013  -8.0 7.47e-002    -  1.00e+000 1.00e+000h  1\n",
      "  13 4.0083872e+000 4.54e-003 4.88e-014  -8.3 6.74e-002    -  1.00e+000 1.00e+000h  1\n",
      "  14 4.0081409e+000 1.93e-003 2.07e-014  -8.7 4.39e-002    -  1.00e+000 1.00e+000h  1\n",
      "  15 4.0080246e+000 5.92e-004 7.47e-015  -9.1 2.43e-002    -  1.00e+000 1.00e+000h  1\n",
      "  16 4.0079906e+000 8.58e-005 4.26e-015  -9.4 1.05e-002    -  1.00e+000 1.00e+000h  1\n",
      "  17 4.0079708e+000 1.72e-004 1.81e-015  -9.7 1.31e-002    -  1.00e+000 1.00e+000h  1\n",
      "  18 4.0079614e+000 8.91e-005 1.28e-015 -10.2 9.44e-003    -  1.00e+000 1.00e+000h  1\n",
      "  19 4.0079580e+000 3.85e-005 2.66e-015 -10.7 6.21e-003    -  1.00e+000 1.00e+000h  1\n",
      "iter    objective    inf_pr   inf_du lg(mu)  ||d||  lg(rg) alpha_du alpha_pr  ls\n",
      "  20 4.0079572e+000 1.18e-005 1.73e-015 -11.0 3.43e-003    -  1.00e+000 1.00e+000h  1\n",
      "  21 4.0079572e+000 8.83e-007 1.71e-015 -11.0 9.40e-004    -  1.00e+000 1.00e+000h  1\n",
      "\n",
      "Number of Iterations....: 21\n",
      "\n",
      "                                   (scaled)                 (unscaled)\n",
      "Objective...............:  1.0019892900081668e-003   4.0079571600326673e+000\n",
      "Dual infeasibility......:  1.7078352620991666e-015   6.8313410483966663e-012\n",
      "Constraint violation....:  8.8315097088833606e-007   8.8315097088833606e-007\n",
      "Complementarity.........:  1.0358128416681608e-011   4.1432513666726432e-008\n",
      "Overall NLP error.......:  8.8315097088833606e-007   8.8315097088833606e-007\n",
      "\n",
      "\n",
      "Number of objective function evaluations             = 22\n",
      "Number of objective gradient evaluations             = 22\n",
      "Number of equality constraint evaluations            = 22\n",
      "Number of inequality constraint evaluations          = 0\n",
      "Number of equality constraint Jacobian evaluations   = 22\n",
      "Number of inequality constraint Jacobian evaluations = 0\n",
      "Number of Lagrangian Hessian evaluations             = 21\n",
      "Total CPU secs in IPOPT (w/o function evaluations)   =      0.108\n",
      "Total CPU secs in NLP function evaluations           =      0.197\n",
      "\n",
      "EXIT: Optimal Solution Found.\n",
      "\n",
      " The solution was found.\n",
      "\n",
      " The final value of the objective function is  4.007957160032667\n",
      " \n",
      " ---------------------------------------------------\n",
      " Solver         :  IPOPT (v3.12)\n",
      " Solution time  :  0.3054 sec\n",
      " Objective      :  4.007957160032667\n",
      " Successful solution\n",
      " ---------------------------------------------------\n",
      " \n",
      "\n"
     ]
    }
   ],
   "source": [
    "m.options.IMODE = 6\n",
    "m.options.NODES = 2\n",
    "m.solve()"
   ]
  },
  {
   "cell_type": "markdown",
   "metadata": {},
   "source": [
    "### Create a figure"
   ]
  },
  {
   "cell_type": "code",
   "execution_count": 12,
   "metadata": {},
   "outputs": [
    {
     "data": {
      "image/png": "[encoded data removed]",
      "text/plain": [
       "<Figure size 1080x576 with 4 Axes>"
      ]
     },
     "metadata": {
      "needs_background": "light"
     },
     "output_type": "display_data"
    }
   ],
   "source": [
    "plt.figure(figsize=(15,8))\n",
    "plt.subplot(2,2,1)\n",
    "plt.plot([0,1],[1/9,1/9],'r:',label=r'$x<\\frac{1}{9}$')\n",
    "plt.plot(m.time,x.value,'k-',lw=2,label=r'$x$')\n",
    "plt.ylabel('Position')\n",
    "plt.legend(loc='best')\n",
    "plt.subplot(2,2,2)\n",
    "plt.plot(m.time,v.value,'b--',lw=2,label=r'$v$')\n",
    "plt.ylabel('Velocity')\n",
    "plt.legend(loc='best')\n",
    "plt.subplot(2,2,3)\n",
    "plt.plot(m.time,u.value,'r--',lw=2,label=r'$u$')\n",
    "plt.ylabel('Thrust')\n",
    "plt.legend(loc='best')\n",
    "plt.xlabel('Time')\n",
    "plt.subplot(2,2,4)\n",
    "plt.plot(m.time,obj.value,'g-',lw=2,label=r'$\\frac{1}{2} \\int u^2$')\n",
    "plt.text(0.5,3.0,'Final Value = '+str(np.round(obj.value[-1],2)))\n",
    "plt.ylabel('Objective')\n",
    "plt.legend(loc='best')\n",
    "plt.xlabel('Time')\n",
    "plt.show()"
   ]
  }
 ],
 "metadata": {
  "kernelspec": {
   "display_name": "Python 3",
   "language": "python",
   "name": "python3"
  },
  "language_info": {
   "codemirror_mode": {
    "name": "ipython",
    "version": 3
   },
   "file_extension": ".py",
   "mimetype": "text/x-python",
   "name": "python",
   "nbconvert_exporter": "python",
   "pygments_lexer": "ipython3",
   "version": "3.7.8"
  }
 },
 "nbformat": 4,
 "nbformat_minor": 4
}
